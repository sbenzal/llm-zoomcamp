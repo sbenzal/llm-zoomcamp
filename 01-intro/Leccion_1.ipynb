{
 "cells": [
  {
   "cell_type": "code",
   "execution_count": 1,
   "id": "667fc878-da4f-414a-9289-bd4b1966df65",
   "metadata": {},
   "outputs": [],
   "source": [
    "import openai"
   ]
  },
  {
   "cell_type": "code",
   "execution_count": 2,
   "id": "e10699dd-37c7-42c8-8f55-081c91dc736e",
   "metadata": {},
   "outputs": [],
   "source": [
    "from openai import OpenAI"
   ]
  },
  {
   "cell_type": "code",
   "execution_count": 3,
   "id": "72d0257b-5e3d-4163-8572-851a988c9e76",
   "metadata": {},
   "outputs": [],
   "source": [
    "import os"
   ]
  },
  {
   "cell_type": "code",
   "execution_count": 4,
   "id": "0b89a7f7-bf03-486c-80d2-91cad9ad3ea6",
   "metadata": {},
   "outputs": [],
   "source": [
    "OPENAI_API_KEY = os.getenv('OPENAI_API_KEY')"
   ]
  },
  {
   "cell_type": "code",
   "execution_count": 6,
   "id": "ef813f05-7c2d-44e3-acce-1cc68fb1d566",
   "metadata": {},
   "outputs": [],
   "source": [
    "client = OpenAI(api_key=OPENAI_API_KEY)"
   ]
  },
  {
   "cell_type": "code",
   "execution_count": 7,
   "id": "802ea618-f817-4514-93e1-942562e73a39",
   "metadata": {},
   "outputs": [],
   "source": [
    "response = client.chat.completions.create(\n",
    "        model = 'gpt-4o',\n",
    "        messages= [{\"role\": \"user\", \"content\" : \"is it too late to join the course?\"}]\n",
    ")"
   ]
  },
  {
   "cell_type": "code",
   "execution_count": 12,
   "id": "b6d4aa63-dfdc-4b44-92d2-8795457479ae",
   "metadata": {},
   "outputs": [
    {
     "data": {
      "text/plain": [
       "\"It depends on the specific course you are interested in. Each course typically has its own deadlines for registration and enrollment. Here are a few steps you can take to find out:\\n\\n1. **Check the Course Website:** Look for enrollment deadlines on the course's official website or the platform where the course is hosted.\\n\\n2. **Contact the Instructor or Institution:** Reach out to the instructor, administration, or support team associated with the course to inquire about late enrollment policies.\\n\\n3. **Consider Auditing:** Some courses allow you to audit for free or at a reduced cost, which might give you access to materials and lectures even if official enrollment has closed.\\n\\n4. **Waitlist:** If the course is full, ask if there is a waitlist you can join.\\n\\n5. **Future Sessions:** Check if the course will be offered again in the future, and if so, whether you can enroll in the next session.\\n\\nIf you provide more specific details about the course you have in mind, I can give more tailored advice.\""
      ]
     },
     "execution_count": 12,
     "metadata": {},
     "output_type": "execute_result"
    }
   ],
   "source": [
    "response.choices[0].message.content"
   ]
  },
  {
   "cell_type": "code",
   "execution_count": null,
   "id": "3207ce75-3f5d-4985-9de5-bb7db8cc54de",
   "metadata": {},
   "outputs": [],
   "source": []
  }
 ],
 "metadata": {
  "kernelspec": {
   "display_name": "Python 3 (ipykernel)",
   "language": "python",
   "name": "python3"
  },
  "language_info": {
   "codemirror_mode": {
    "name": "ipython",
    "version": 3
   },
   "file_extension": ".py",
   "mimetype": "text/x-python",
   "name": "python",
   "nbconvert_exporter": "python",
   "pygments_lexer": "ipython3",
   "version": "3.10.13"
  }
 },
 "nbformat": 4,
 "nbformat_minor": 5
}
